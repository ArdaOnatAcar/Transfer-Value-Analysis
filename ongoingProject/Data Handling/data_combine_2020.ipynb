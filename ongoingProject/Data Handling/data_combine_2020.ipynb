{
 "cells": [
  {
   "cell_type": "markdown",
   "metadata": {},
   "source": [
    "Import"
   ]
  },
  {
   "cell_type": "code",
   "execution_count": 16,
   "metadata": {},
   "outputs": [],
   "source": [
    "import pandas as pd\n",
    "import os"
   ]
  },
  {
   "cell_type": "markdown",
   "metadata": {},
   "source": [
    "Read league datas"
   ]
  },
  {
   "cell_type": "code",
   "execution_count": 17,
   "metadata": {},
   "outputs": [],
   "source": [
    "# Create a list of leagues and their names in the excel files\n",
    "leagues = ['premier_league', 'laliga', 'bundesliga', 'serie_a', 'ligue_1']\n",
    "\n",
    "# Read excel files and combine them into a single dataframe\n",
    "dfs = []\n",
    "i = 0\n",
    "# Loop through each league and read the corresponding excel file\n",
    "for league in leagues:\n",
    "    # Read the excel file\n",
    "    df = pd.read_excel(f'../Datas/my_2020_{league}_data.xlsx')\n",
    "    # Add a new column for the league name\n",
    "    if i==0:\n",
    "        df['league'] = 'Premier League'\n",
    "    elif i==1:\n",
    "        df['league'] = 'La Liga'\n",
    "    elif i==2:\n",
    "        df['league'] = 'Bundesliga'\n",
    "    elif i==3:\n",
    "        df['league'] = 'Serie A'\n",
    "    elif i==4:\n",
    "        df['league'] = 'Ligue 1'\n",
    "    i += 1\n",
    "    # Append the dataframe to the list\n",
    "    dfs.append(df)"
   ]
  },
  {
   "cell_type": "markdown",
   "metadata": {},
   "source": [
    "Process the data"
   ]
  },
  {
   "cell_type": "code",
   "execution_count": 18,
   "metadata": {},
   "outputs": [],
   "source": [
    "# Concatenate all dataframes into a single dataframe\n",
    "df = pd.concat(dfs, ignore_index=True)\n",
    "# Drop the first row if it is empty\n",
    "df.dropna(how='all', inplace=True)  \n",
    "# Reset the index\n",
    "df.reset_index(drop=True, inplace=True)    \n",
    "# Drop every row except the name and value columns\n",
    "df = df[['name','age', 'value','position','league']]  \n",
    "\n",
    "# First, clean the value column but keep it as string initially\n",
    "df['value'] = df['value'].str.replace('€', '').str.replace(',', '')\n",
    "\n",
    "# Convert values with 'm' suffix to millions\n",
    "df.loc[df['value'].str.contains('m', na=False), 'value'] = df['value'].loc[df['value'].str.contains('m', na=False)].str.replace('m', '').astype(float) * 1e6\n",
    "\n",
    "# Convert values with 'k' suffix to thousands\n",
    "df.loc[df['value'].str.contains('k', na=False), 'value'] = df['value'].loc[df['value'].str.contains('k', na=False)].str.replace('k', '').astype(float) * 1e3\n",
    "\n",
    "# Convert remaining values to float\n",
    "df.loc[~df['value'].str.contains('m|k', na=False), 'value'] = df.loc[~df['value'].str.contains('m|k', na=False), 'value'].astype(float)\n",
    "\n",
    "# Sort in decreasing order of values\n",
    "df.sort_values(by='value', ascending=False, inplace=True)\n",
    "# Reset the index after sorting\n",
    "df.reset_index(drop=True, inplace=True)\n",
    "\n",
    "# Rename the columns to 'Player' and 'Value'\n",
    "df.rename(columns={'name': 'Player','age':'Age','value': 'Value (2020)','position': 'Position','league':'League'}, inplace=True)"
   ]
  },
  {
   "cell_type": "markdown",
   "metadata": {},
   "source": [
    "Save"
   ]
  },
  {
   "cell_type": "code",
   "execution_count": 19,
   "metadata": {},
   "outputs": [
    {
     "name": "stdout",
     "output_type": "stream",
     "text": [
      "Saving combined data to excel...\n"
     ]
    }
   ],
   "source": [
    "print('Saving combined data to excel...')\n",
    "output_file = '../Datas/combined_2020_data.xlsx'\n",
    "if os.path.exists(output_file):\n",
    "    os.remove(output_file)  # Remove the file if it already exists\n",
    "df.to_excel(output_file, index=False)"
   ]
  }
 ],
 "metadata": {
  "kernelspec": {
   "display_name": "ml",
   "language": "python",
   "name": "python3"
  },
  "language_info": {
   "codemirror_mode": {
    "name": "ipython",
    "version": 3
   },
   "file_extension": ".py",
   "mimetype": "text/x-python",
   "name": "python",
   "nbconvert_exporter": "python",
   "pygments_lexer": "ipython3",
   "version": "3.10.16"
  }
 },
 "nbformat": 4,
 "nbformat_minor": 2
}
